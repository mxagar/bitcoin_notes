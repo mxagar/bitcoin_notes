{
 "cells": [
  {
   "cell_type": "markdown",
   "metadata": {},
   "source": [
    "# Bitcoin API Examples"
   ]
  },
  {
   "cell_type": "markdown",
   "metadata": {},
   "source": [
    "This notebook shows, among others, a modified version of the code from the book **\"Mastering Bitcoin\"**, by A. Antonopoulos. Since a Bitcoin node provides an RPC interface, it is possible to query information to the node sitting in our local network using several tools, as it is shown.\n",
    "\n",
    "- `cURL`.\n",
    "- `cURL` using Python `requests`.\n",
    "- The library `python-bitcoincli`, which also uses the RPC.\n",
    "\n",
    "Table of contents:\n",
    "\n",
    "- [Setup](#setup)\n",
    "- [CURL Interface](#curl-interface)\n",
    "- [Python-BitcoinLib](#python-bitcoinlib)\n",
    "- [Get All the Outputs of a Transaction](#get-all-the-outputs-of-a-transaction)\n",
    "- [Get Total Value in All Transactions of a Block](#get-total-value-in-all-transactions-of-a-block)"
   ]
  },
  {
   "cell_type": "markdown",
   "metadata": {},
   "source": [
    "## Setup"
   ]
  },
  {
   "cell_type": "markdown",
   "metadata": {},
   "source": [
    "This notebook shows, among others, a modified version of the code from the book **\"Mastering Bitcoin\"**, by A. Antonopoulos. Since a Bitcoin node provides an RPC interface, it is possible to query information to the node sitting in our local network using several tools:\n",
    "\n",
    "- `cURL`.\n",
    "- `cURL` using Python `requests`.\n",
    "- The library `python-bitcoincli`, which also uses the RPC.\n",
    "\n",
    "But first, we need to set everything up:\n",
    "\n",
    "- First, you need to set up a Bitcoin node. Check [`Bitcoing_Practical_Guide.md`](../bitcoin_practical/Bitcoing_Practical_Guide.md).\n",
    "- Then, a `.env` file needs to be created, which contains the values of `RPC_USER`, `RPC_PASSWORD`, `BTC_NODE_IP` and `RPC_PORT`. Those values come from the node. See [`Bitcoin_Antonopoulos_Book.md`](./Bitcoin_Antonopoulos_Book.md).\n",
    "- Finally, install the conda environment with `conda.yaml` and you should be ready to run these examples."
   ]
  },
  {
   "cell_type": "markdown",
   "metadata": {},
   "source": [
    "## CURL Interface"
   ]
  },
  {
   "cell_type": "markdown",
   "metadata": {},
   "source": [
    "We can use `cURL` to send any `bitcoin-cli` command to our node via RPC:"
   ]
  },
  {
   "cell_type": "markdown",
   "metadata": {},
   "source": [
    "```bash\n",
    "# Command in the node\n",
    "bitcoin-cli getblockchaininfo\n",
    "\n",
    "# Equivalent cURL sent from another machine in the local network\n",
    "curl --user $RPC_USER:$RPC_PASSWORD --data-binary '{\"jsonrpc\": \"1.0\", \"id\":\"curltest\", \"method\": \"getblockchaininfo\", \"params\": [] }' -H 'content-type: text/plain;' http://$BTC_NODE_IP:$RPC_PORT/\n",
    "```"
   ]
  },
  {
   "cell_type": "markdown",
   "metadata": {},
   "source": [
    "## CURL in Python via Requests"
   ]
  },
  {
   "cell_type": "code",
   "execution_count": 1,
   "metadata": {},
   "outputs": [
    {
     "data": {
      "text/plain": [
       "True"
      ]
     },
     "execution_count": 1,
     "metadata": {},
     "output_type": "execute_result"
    }
   ],
   "source": [
    "import os\n",
    "import requests\n",
    "from requests.auth import HTTPBasicAuth\n",
    "from dotenv import load_dotenv\n",
    "\n",
    "# Load environment variables from .env file\n",
    "load_dotenv()"
   ]
  },
  {
   "cell_type": "code",
   "execution_count": 2,
   "metadata": {},
   "outputs": [],
   "source": [
    "# Retrieve environment variables\n",
    "rpc_user = os.getenv('RPC_USER')\n",
    "rpc_password = os.getenv('RPC_PASSWORD')\n",
    "rpc_ip = os.getenv('BTC_NODE_IP')\n",
    "rpc_port = os.getenv('RPC_PORT')\n",
    "\n",
    "# Create the connection URL\n",
    "# Username + PW are passed later in HTTPBasicAuth\n",
    "rpc_url = f\"http://{rpc_ip}:{rpc_port}\""
   ]
  },
  {
   "cell_type": "code",
   "execution_count": 3,
   "metadata": {},
   "outputs": [],
   "source": [
    "# Create the payload for the RPC request\n",
    "payload = {\n",
    "    \"jsonrpc\": \"1.0\",\n",
    "    \"id\": \"curltest\",\n",
    "    # We would modify method and params depending on the command\n",
    "    \"method\": \"getblockchaininfo\",\n",
    "    \"params\": []\n",
    "}"
   ]
  },
  {
   "cell_type": "code",
   "execution_count": 4,
   "metadata": {},
   "outputs": [
    {
     "name": "stdout",
     "output_type": "stream",
     "text": [
      "869589\n"
     ]
    }
   ],
   "source": [
    "# Send the RPC request\n",
    "try:\n",
    "    response = requests.post(rpc_url, json=payload, auth=HTTPBasicAuth(rpc_user, rpc_password), headers={'Content-Type': 'text/plain'})\n",
    "    response.raise_for_status()  # Raise an exception for HTTP errors\n",
    "    info = response.json()\n",
    "    # Retrieve the 'blocks' element from the info\n",
    "    print(info['result']['blocks']) # 851989\n",
    "except Exception as e:\n",
    "    print(f\"An error occurred: {e}\")"
   ]
  },
  {
   "cell_type": "markdown",
   "metadata": {},
   "source": [
    "## Python-BitcoinLib"
   ]
  },
  {
   "cell_type": "code",
   "execution_count": 5,
   "metadata": {},
   "outputs": [
    {
     "data": {
      "text/plain": [
       "True"
      ]
     },
     "execution_count": 5,
     "metadata": {},
     "output_type": "execute_result"
    }
   ],
   "source": [
    "import os\n",
    "from dotenv import load_dotenv\n",
    "from bitcoin.rpc import RawProxy\n",
    "\n",
    "# Load environment variables from .env file\n",
    "load_dotenv()"
   ]
  },
  {
   "cell_type": "code",
   "execution_count": 6,
   "metadata": {},
   "outputs": [],
   "source": [
    "# Retrieve environment variables\n",
    "rpc_user = os.getenv('RPC_USER')\n",
    "rpc_password = os.getenv('RPC_PASSWORD')\n",
    "rpc_ip = os.getenv('BTC_NODE_IP')\n",
    "rpc_port = os.getenv('RPC_PORT')\n",
    "\n",
    "# Create the connection URL\n",
    "# We pass username + PW here!\n",
    "rpc_url = f\"http://{rpc_user}:{rpc_password}@{rpc_ip}:{rpc_port}\""
   ]
  },
  {
   "cell_type": "code",
   "execution_count": 7,
   "metadata": {},
   "outputs": [
    {
     "name": "stdout",
     "output_type": "stream",
     "text": [
      "869589\n"
     ]
    }
   ],
   "source": [
    "# Create a connection to the Bitcoin Core node\n",
    "try:\n",
    "    p = RawProxy(service_url=rpc_url)\n",
    "    # Run the getblockchaininfo command, store the resulting data in info\n",
    "    info = p.getblockchaininfo()\n",
    "    # Retrieve the 'blocks' element from the info\n",
    "    print(info['blocks']) # 851989\n",
    "except Exception as e:\n",
    "    print(f\"An error occurred: {e}\")"
   ]
  },
  {
   "cell_type": "markdown",
   "metadata": {},
   "source": [
    "## Get All the Outputs of a Transaction"
   ]
  },
  {
   "cell_type": "code",
   "execution_count": 8,
   "metadata": {},
   "outputs": [
    {
     "data": {
      "text/plain": [
       "True"
      ]
     },
     "execution_count": 8,
     "metadata": {},
     "output_type": "execute_result"
    }
   ],
   "source": [
    "import os\n",
    "from dotenv import load_dotenv\n",
    "from bitcoin.rpc import RawProxy\n",
    "\n",
    "# Load environment variables from .env file\n",
    "load_dotenv()"
   ]
  },
  {
   "cell_type": "code",
   "execution_count": 9,
   "metadata": {},
   "outputs": [],
   "source": [
    "# Retrieve environment variables\n",
    "rpc_user = os.getenv('RPC_USER')\n",
    "rpc_password = os.getenv('RPC_PASSWORD')\n",
    "rpc_ip = os.getenv('BTC_NODE_IP')\n",
    "rpc_port = os.getenv('RPC_PORT')\n",
    "\n",
    "# Create the connection URL\n",
    "# We pass username + PW here!\n",
    "rpc_url = f\"http://{rpc_user}:{rpc_password}@{rpc_ip}:{rpc_port}\""
   ]
  },
  {
   "cell_type": "code",
   "execution_count": 10,
   "metadata": {},
   "outputs": [],
   "source": [
    "# Create a connection to the Bitcoin Core node\n",
    "try:\n",
    "    p = RawProxy(service_url=rpc_url)\n",
    "except Exception as e:\n",
    "    print(f\"An error occurred: {e}\")"
   ]
  },
  {
   "cell_type": "code",
   "execution_count": 11,
   "metadata": {},
   "outputs": [
    {
     "name": "stdout",
     "output_type": "stream",
     "text": [
      "bc1p8dqa4wjvnt890qmfws83te0v3qxzsfu7ul63kp7u56w8qc0qwp5qv995qn 0.00020000\n",
      "bc1qwafvze0200nh9vkq4jmlf4sy0tn0ga5w0zpkpg 0.00075000\n"
     ]
    }
   ],
   "source": [
    "# Alice's transaction ID\n",
    "txid = \"466200308696215bbc949d5141a49a4138ecdfdfaa2a8029c1f9bcecd1f96177\"\n",
    "\n",
    "# First, retrieve the raw transaction in hex\n",
    "raw_tx = p.getrawtransaction(txid)\n",
    "\n",
    "# Decode the transaction hex into a JSON object\n",
    "decoded_tx = p.decoderawtransaction(raw_tx)\n",
    "\n",
    "# Retrieve each of the outputs from the transaction\n",
    "for output in decoded_tx['vout']:\n",
    "    print(output['scriptPubKey']['address'], output['value'])\n",
    "    # bc1p8dqa4wjvnt890qmfws83te0v3qxzsfu7ul63kp7u56w8qc0qwp5qv995qn 0.00020000\n",
    "    # bc1qwafvze0200nh9vkq4jmlf4sy0tn0ga5w0zpkpg 0.00075000"
   ]
  },
  {
   "cell_type": "markdown",
   "metadata": {},
   "source": [
    "## Get Total Value in All Transactions of a Block"
   ]
  },
  {
   "cell_type": "code",
   "execution_count": 18,
   "metadata": {},
   "outputs": [
    {
     "data": {
      "text/plain": [
       "True"
      ]
     },
     "execution_count": 18,
     "metadata": {},
     "output_type": "execute_result"
    }
   ],
   "source": [
    "import os\n",
    "from dotenv import load_dotenv\n",
    "from bitcoin.rpc import RawProxy\n",
    "from tqdm import tqdm\n",
    "\n",
    "# Load environment variables from .env file\n",
    "load_dotenv()"
   ]
  },
  {
   "cell_type": "code",
   "execution_count": 19,
   "metadata": {},
   "outputs": [],
   "source": [
    "# Retrieve environment variables\n",
    "rpc_user = os.getenv('RPC_USER')\n",
    "rpc_password = os.getenv('RPC_PASSWORD')\n",
    "rpc_ip = os.getenv('BTC_NODE_IP')\n",
    "rpc_port = os.getenv('RPC_PORT')\n",
    "\n",
    "# Create the connection URL\n",
    "# We pass username + PW here!\n",
    "rpc_url = f\"http://{rpc_user}:{rpc_password}@{rpc_ip}:{rpc_port}\""
   ]
  },
  {
   "cell_type": "code",
   "execution_count": 20,
   "metadata": {},
   "outputs": [],
   "source": [
    "# Create a connection to the Bitcoin Core node\n",
    "try:\n",
    "    p = RawProxy(service_url=rpc_url)\n",
    "except Exception as e:\n",
    "    print(f\"An error occurred: {e}\")"
   ]
  },
  {
   "cell_type": "code",
   "execution_count": 21,
   "metadata": {},
   "outputs": [
    {
     "name": "stderr",
     "output_type": "stream",
     "text": [
      "100%|██████████| 1966/1966 [02:24<00:00, 13.57it/s]"
     ]
    },
    {
     "name": "stdout",
     "output_type": "stream",
     "text": [
      "Total value in block:  5863.00566521\n"
     ]
    },
    {
     "name": "stderr",
     "output_type": "stream",
     "text": [
      "\n"
     ]
    }
   ],
   "source": [
    "# The block height where Alice's transaction was recorded\n",
    "blockheight = 775072\n",
    "\n",
    "# Get the block hash of the block at the given height\n",
    "blockhash = p.getblockhash(blockheight)\n",
    "\n",
    "# Retrieve the block by its hash\n",
    "block = p.getblock(blockhash)\n",
    "\n",
    "# Element tx contains the list of all transaction IDs in the block\n",
    "transactions = block['tx']\n",
    "\n",
    "block_value = 0\n",
    "\n",
    "# Iterate through each transaction ID in the block\n",
    "for txid in tqdm(transactions):\n",
    "#for txid in transactions:\n",
    "    tx_value = 0\n",
    "    # Retrieve the raw transaction by ID\n",
    "    raw_tx = p.getrawtransaction(txid)\n",
    "    # Decode the transaction\n",
    "    decoded_tx = p.decoderawtransaction(raw_tx)\n",
    "    # Iterate through each output in the transaction\n",
    "    for output in decoded_tx['vout']:\n",
    "        # Add up the value of each output\n",
    "        tx_value = tx_value + output['value']\n",
    "\n",
    "    # Add the value of this transaction to the total\n",
    "    block_value = block_value + tx_value\n",
    "\n",
    "print(\"Total value in block: \", block_value) # 5863.00566521"
   ]
  },
  {
   "cell_type": "code",
   "execution_count": null,
   "metadata": {},
   "outputs": [],
   "source": []
  }
 ],
 "metadata": {
  "kernelspec": {
   "display_name": "btc",
   "language": "python",
   "name": "python3"
  },
  "language_info": {
   "codemirror_mode": {
    "name": "ipython",
    "version": 3
   },
   "file_extension": ".py",
   "mimetype": "text/x-python",
   "name": "python",
   "nbconvert_exporter": "python",
   "pygments_lexer": "ipython3",
   "version": "3.10.14"
  }
 },
 "nbformat": 4,
 "nbformat_minor": 2
}
