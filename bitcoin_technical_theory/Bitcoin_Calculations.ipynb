{
 "cells": [
  {
   "cell_type": "markdown",
   "metadata": {},
   "source": [
    "# Bitcoin Calculations"
   ]
  },
  {
   "cell_type": "markdown",
   "metadata": {},
   "source": [
    "- How Many Years to Mine the Last Bitcoin?\n",
    "- Proof-of-Work Simulations"
   ]
  },
  {
   "cell_type": "markdown",
   "metadata": {},
   "source": [
    "## How Many Years to Mine the Last Bitcoin?"
   ]
  },
  {
   "cell_type": "code",
   "execution_count": 2,
   "metadata": {},
   "outputs": [
    {
     "name": "stdout",
     "output_type": "stream",
     "text": [
      "35.45610119047619\n"
     ]
    }
   ],
   "source": [
    "# Constants\n",
    "total_supply_satoshis = 21_000_000 * 100_000_000  # Total BTC supply cap in satoshis\n",
    "blocks_per_halving = 210_000  # Number of blocks before each halving\n",
    "halving_interval_years = 4  # Halving interval in years\n",
    "\n",
    "# Variables for the backward simulation\n",
    "current_subsidy = 1  # Start with 1 satoshi per block in the last cycle\n",
    "remaining_supply = 0  # Initially, all supply is already created\n",
    "current_supply = total_supply_satoshis  # Start at the total supply\n",
    "processed_blocks = 0\n",
    "processed_cycles = 0\n",
    "\n",
    "# Simulate backwards\n",
    "while remaining_supply < 100_000_000:  # While remaining supply is less than 1 BTC (100 million satoshis)\n",
    "    supply_in_cycle = current_subsidy * blocks_per_halving\n",
    "    if remaining_supply + supply_in_cycle > 100_000_000:\n",
    "        # Calculate the exact number of blocks needed to reach 1 BTC remaining supply\n",
    "        blocks_needed = (100_000_000 - remaining_supply) / current_subsidy\n",
    "        processed_blocks += blocks_needed\n",
    "        break\n",
    "    remaining_supply += supply_in_cycle\n",
    "    processed_blocks += blocks_per_halving\n",
    "    current_subsidy *= 2  # Subsidy doubles as we move backwards in time\n",
    "    processed_cycles += 1\n",
    "\n",
    "# Calculate the years required\n",
    "years_needed = processed_blocks / blocks_per_halving * halving_interval_years\n",
    "\n",
    "print(years_needed)"
   ]
  },
  {
   "cell_type": "markdown",
   "metadata": {},
   "source": [
    "## Power-of-Work Simulations"
   ]
  },
  {
   "cell_type": "code",
   "execution_count": 3,
   "metadata": {},
   "outputs": [
    {
     "name": "stdout",
     "output_type": "stream",
     "text": [
      "Simulating Proof-of-Work:\n",
      "Nonce: 0 | Hash: a80a81401765c8eddee25df36728d732acb6d135bcdee6c2f87a3784279cfaed\n",
      "Nonce: 1 | Hash: f7bc9a6304a4647bb41241a677b5345fe3cd30db882c8281cf24fbb7645b6240\n",
      "Nonce: 2 | Hash: ea758a8134b115298a1583ffb80ae62939a2d086273ef5a7b14fbfe7fb8a799e\n",
      "Nonce: 3 | Hash: bfa9779618ff072c903d773de30c99bd6e2fd70bb8f2cbb929400e0976a5c6f4\n",
      "Nonce: 4 | Hash: bce8564de9a83c18c31944a66bde992ff1a77513f888e91c185bd08ab9c831d5\n",
      "Nonce: 5 | Hash: eb362c3cf3479be0a97a20163589038e4dbead49f915e96e8f983f99efa3ef0a\n",
      "Nonce: 6 | Hash: 4a2fd48e3be420d0d28e202360cfbaba410beddeebb8ec07a669cd8928a8ba0e\n",
      "Nonce: 7 | Hash: 790b5a1349a5f2b909bf74d0d166b17a333c7fd80c0f0eeabf29c4564ada8351\n",
      "Nonce: 8 | Hash: 702c45e5b15aa54b625d68dd947f1597b1fa571d00ac6c3dedfa499f425e7369\n",
      "Nonce: 9 | Hash: 7007cf7dd40f5e933cd89fff5b791ff0614d9c6017fbe831d63d392583564f74\n",
      "Nonce: 10 | Hash: c2f38c81992f4614206a21537bd634af717896430ff1de6fc1ee44a949737705\n"
     ]
    }
   ],
   "source": [
    "import hashlib\n",
    "\n",
    "# Message and initial nonce\n",
    "message = \"I am Satoshi Nakamoto\"\n",
    "nonce = 0\n",
    "\n",
    "# Simulate proof-of-work algorithm\n",
    "print(\"Simulating Proof-of-Work:\")\n",
    "while True:\n",
    "    # Concatenate the message with the current nonce\n",
    "    data = f\"{message}{nonce}\"\n",
    "    \n",
    "    # Hash the concatenated string using SHA256\n",
    "    hash_result = hashlib.sha256(data.encode()).hexdigest()\n",
    "    \n",
    "    # Print the current nonce and the resulting hash\n",
    "    print(f\"Nonce: {nonce} | Hash: {hash_result}\")\n",
    "    \n",
    "    # Increment the nonce for the next iteration\n",
    "    nonce += 1\n",
    "    \n",
    "    # Break the loop after a few iterations for demonstration purposes\n",
    "    if nonce > 10:  # Limiting to 10 iterations for demonstration\n",
    "        break"
   ]
  },
  {
   "cell_type": "code",
   "execution_count": null,
   "metadata": {},
   "outputs": [],
   "source": [
    "import hashlib\n",
    "import time\n",
    "\n",
    "def proof_of_work(message, difficulty):\n",
    "    \"\"\"\n",
    "    Implements the Proof-of-Work algorithm.\n",
    "    \n",
    "    Args:\n",
    "    - message (str): The base message to hash.\n",
    "    - difficulty (int): The number of leading zeros required in the hash.\n",
    "    \n",
    "    Returns:\n",
    "    - nonce (int): The nonce that produces a valid hash.\n",
    "    - hash_result (str): The valid hash.\n",
    "    \"\"\"\n",
    "    # Define the target: a hash with `difficulty` leading zeros\n",
    "    # In practice, this is not implemented like that,\n",
    "    # but instead, the new difficulty is comptued by observing the excess/less time required\n",
    "    # in the last 2016 blocks, and the new difficulty changes the target\n",
    "    # with a factor\n",
    "    target = \"0\" * difficulty\n",
    "    \n",
    "    # Start with nonce = 0\n",
    "    nonce = 0\n",
    "    \n",
    "    print(f\"Starting Proof-of-Work with difficulty: {difficulty}...\")\n",
    "    start_time = time.time()\n",
    "\n",
    "    while True:\n",
    "        # Concatenate message with nonce\n",
    "        data = f\"{message}{nonce}\"\n",
    "        \n",
    "        # Calculate SHA256 hash\n",
    "        hash_result = hashlib.sha256(data.encode()).hexdigest()\n",
    "        \n",
    "        # Check if hash meets the difficulty target\n",
    "        if hash_result.startswith(target):\n",
    "            elapsed_time = time.time() - start_time\n",
    "            return nonce, hash_result, elapsed_time\n",
    "        \n",
    "        # Increment nonce and try again\n",
    "        nonce += 1"
   ]
  },
  {
   "cell_type": "code",
   "execution_count": 17,
   "metadata": {},
   "outputs": [
    {
     "name": "stdout",
     "output_type": "stream",
     "text": [
      "Starting Proof-of-Work with difficulty: 7...\n",
      "Proof-of-Work found! Nonce: 39991487, Hash: 0000000ba5f1e30a098f9a8c232a90de8bd067547e453826beafdda9799139dd\n",
      "Time taken: 49.96 seconds\n",
      "Difficulty: 7\n",
      "Nonce: 39991487\n",
      "Hash: 0000000ba5f1e30a098f9a8c232a90de8bd067547e453826beafdda9799139dd\n",
      "Time taken: 49.96 seconds\n"
     ]
    }
   ],
   "source": [
    "# Run the Proof-of-Work algorithm\n",
    "message = \"I am Satoshi Nakamoto\"\n",
    "difficulty = 7  # Number of leading zeros required\n",
    "nonce, valid_hash, elapsed_time = proof_of_work(message, difficulty)\n",
    "# Print the result\n",
    "print(f\"Difficulty: {difficulty}\")\n",
    "print(f\"Nonce: {nonce}\")\n",
    "print(f\"Hash: {valid_hash}\")\n",
    "print(f\"Time taken: {elapsed_time:.2f} seconds\")"
   ]
  },
  {
   "cell_type": "code",
   "execution_count": null,
   "metadata": {},
   "outputs": [],
   "source": []
  },
  {
   "cell_type": "code",
   "execution_count": null,
   "metadata": {},
   "outputs": [],
   "source": []
  }
 ],
 "metadata": {
  "kernelspec": {
   "display_name": "btc",
   "language": "python",
   "name": "python3"
  },
  "language_info": {
   "codemirror_mode": {
    "name": "ipython",
    "version": 3
   },
   "file_extension": ".py",
   "mimetype": "text/x-python",
   "name": "python",
   "nbconvert_exporter": "python",
   "pygments_lexer": "ipython3",
   "version": "3.10.14"
  }
 },
 "nbformat": 4,
 "nbformat_minor": 2
}
